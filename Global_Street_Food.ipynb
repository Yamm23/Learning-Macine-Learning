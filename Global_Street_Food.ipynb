{
  "nbformat": 4,
  "nbformat_minor": 0,
  "metadata": {
    "colab": {
      "provenance": [],
      "mount_file_id": "1SXtSRJsrPV17F8EW5xfq_iquiRXlfvs8",
      "authorship_tag": "ABX9TyNttZmIMaJVgzs5qwXHYMcc",
      "include_colab_link": true
    },
    "kernelspec": {
      "name": "python3",
      "display_name": "Python 3"
    },
    "language_info": {
      "name": "python"
    }
  },
  "cells": [
    {
      "cell_type": "markdown",
      "metadata": {
        "id": "view-in-github",
        "colab_type": "text"
      },
      "source": [
        "<a href=\"https://colab.research.google.com/github/Yamm23/Learning-Macine-Learning/blob/main/Global_Street_Food.ipynb\" target=\"_parent\"><img src=\"https://colab.research.google.com/assets/colab-badge.svg\" alt=\"Open In Colab\"/></a>"
      ]
    },
    {
      "cell_type": "code",
      "execution_count": 5,
      "metadata": {
        "id": "xkgNIRzSPfF5"
      },
      "outputs": [],
      "source": [
        "#Import necessary modules and reading the csv\n",
        "import pandas as pd\n",
        "import numpy as np\n",
        "import matplotlib.pyplot as plt\n",
        "df = pd.read_csv('/content/drive/MyDrive/LearningAI_CSV/Global_Street_Food/global_street_food.csv')"
      ]
    },
    {
      "cell_type": "markdown",
      "source": [
        "**Preprocessing**"
      ],
      "metadata": {
        "id": "Jw9VVKMdS0Fb"
      }
    },
    {
      "cell_type": "code",
      "source": [
        "print('CSV Data Head')\n",
        "print(df.head())\n",
        "print('\\nData Description')\n",
        "print(df.describe())\n",
        "print('\\nChecking for null values')\n",
        "print(df.notnull().sum())\n",
        "print('\\nData Info')\n",
        "print(df.info())"
      ],
      "metadata": {
        "colab": {
          "base_uri": "https://localhost:8080/"
        },
        "id": "Ss6IeQF8RrJi",
        "outputId": "4615b6fa-5caf-45e2-f858-23e956f17bec"
      },
      "execution_count": 19,
      "outputs": [
        {
          "output_type": "stream",
          "name": "stdout",
          "text": [
            "CSV Data Head\n",
            "     Dish Name   Country Region/City  \\\n",
            "0     Takoyaki     Japan       Osaka   \n",
            "1     Vada Pav     India      Mumbai   \n",
            "2  Funnel Cake       USA       Texas   \n",
            "3   Kathi Roll     India     Kolkata   \n",
            "4     Pad Thai  Thailand     Bangkok   \n",
            "\n",
            "                                         Ingredients  \\\n",
            "0  Octopus, Flour Batter, Bonito Flakes, Green On...   \n",
            "1                 Potato, Spices, Bread Bun, Chutney   \n",
            "2                                 Batter, Sugar, Oil   \n",
            "3           Flatbread, Egg, Chicken, Onions, Chutney   \n",
            "4    Rice Noodles, Tofu, Eggs, Peanuts, Bean Sprouts   \n",
            "\n",
            "                                         Description Cooking Method  \\\n",
            "0  Crispy and hot, often served with sauces or ch...          Fried   \n",
            "1  Crispy and hot, often served with sauces or ch...          Fried   \n",
            "2  Crispy and hot, often served with sauces or ch...          Fried   \n",
            "3         Charred to perfection with a smoky flavor.        Grilled   \n",
            "4     Quickly tossed in a hot pan with bold flavors.     Stir-Fried   \n",
            "\n",
            "   Typical Price (USD) Vegetarian  \n",
            "0                 3.28         No  \n",
            "1                 2.37        Yes  \n",
            "2                 2.78        Yes  \n",
            "3                 1.89         No  \n",
            "4                 3.48        Yes  \n",
            "\n",
            "Data Description\n",
            "       Typical Price (USD)\n",
            "count          4500.000000\n",
            "mean              2.657429\n",
            "std               1.358311\n",
            "min               0.200000\n",
            "25%               1.560000\n",
            "50%               2.660000\n",
            "75%               3.830000\n",
            "max               5.000000\n",
            "\n",
            "Checking for null values\n",
            "Dish Name              4500\n",
            "Country                4500\n",
            "Region/City            4500\n",
            "Ingredients            4500\n",
            "Description            4500\n",
            "Cooking Method         4500\n",
            "Typical Price (USD)    4500\n",
            "Vegetarian             4500\n",
            "dtype: int64\n",
            "\n",
            "Data Info\n",
            "<class 'pandas.core.frame.DataFrame'>\n",
            "RangeIndex: 4500 entries, 0 to 4499\n",
            "Data columns (total 8 columns):\n",
            " #   Column               Non-Null Count  Dtype  \n",
            "---  ------               --------------  -----  \n",
            " 0   Dish Name            4500 non-null   object \n",
            " 1   Country              4500 non-null   object \n",
            " 2   Region/City          4500 non-null   object \n",
            " 3   Ingredients          4500 non-null   object \n",
            " 4   Description          4500 non-null   object \n",
            " 5   Cooking Method       4500 non-null   object \n",
            " 6   Typical Price (USD)  4500 non-null   float64\n",
            " 7   Vegetarian           4500 non-null   object \n",
            "dtypes: float64(1), object(7)\n",
            "memory usage: 281.4+ KB\n",
            "None\n"
          ]
        }
      ]
    },
    {
      "cell_type": "code",
      "source": [],
      "metadata": {
        "id": "1WLw8WpdR0zz"
      },
      "execution_count": null,
      "outputs": []
    },
    {
      "cell_type": "code",
      "source": [],
      "metadata": {
        "id": "fdgAchkAR17i"
      },
      "execution_count": null,
      "outputs": []
    },
    {
      "cell_type": "code",
      "source": [],
      "metadata": {
        "id": "5Eq6gJMwSZFi"
      },
      "execution_count": null,
      "outputs": []
    }
  ]
}